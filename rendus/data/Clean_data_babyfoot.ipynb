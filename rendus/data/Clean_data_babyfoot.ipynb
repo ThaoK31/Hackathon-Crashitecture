{
 "cells": [
  {
   "metadata": {},
   "cell_type": "markdown",
   "source": "## IMPORT BIBLIOTHÈQUE",
   "id": "12c6d0667a8f060a"
  },
  {
   "metadata": {
    "collapsed": true,
    "ExecuteTime": {
     "end_time": "2025-10-17T14:23:54.281881Z",
     "start_time": "2025-10-17T14:23:54.277985Z"
    }
   },
   "cell_type": "code",
   "source": [
    "# Importation des bibliothèques pour la manipulation et l'analyse des données.\n",
    "import pandas as pd\n",
    "import re\n",
    "from dateutil import parser\n",
    "from sqlalchemy import create_engine\n",
    "import seaborn as sns\n",
    "import matplotlib.pyplot as plt"
   ],
   "id": "initial_id",
   "outputs": [],
   "execution_count": 207
  },
  {
   "metadata": {},
   "cell_type": "markdown",
   "source": "## LECTURE CSV",
   "id": "abfbe6f4ec54d2c"
  },
  {
   "metadata": {
    "ExecuteTime": {
     "end_time": "2025-10-17T14:00:19.680181Z",
     "start_time": "2025-10-17T14:00:17.319919Z"
    }
   },
   "cell_type": "code",
   "source": [
    "# Chargement du jeu de données depuis le fichier CSV. Paramètre low_memory=False utilisé pour éviter les erreurs de type\n",
    "df = pd.read_csv(\"babyfoot_dataset.csv\", low_memory=False) # Chargement du CSV qui est dans le même dossier que le notebook\n",
    "\n",
    "# Un premier nettoyage est immédiatement appliquée pour supprimer les caractères (�) liés à d'éventuels problèmes d'encodage\n",
    "df_clean = df.apply(lambda col: col.astype(str).str.replace('�', '', regex=False))\n"
   ],
   "id": "d528c493ca3039c4",
   "outputs": [],
   "execution_count": 149
  },
  {
   "metadata": {},
   "cell_type": "markdown",
   "source": "## NETTOYAGE DES DONNÉS",
   "id": "dbb9b1baa9842b77"
  },
  {
   "metadata": {
    "ExecuteTime": {
     "end_time": "2025-10-17T14:00:19.737293Z",
     "start_time": "2025-10-17T14:00:19.687011Z"
    }
   },
   "cell_type": "code",
   "source": [
    "# Les colonnes jugées non pertinentes pour l'analyse sont supprimées:\n",
    "# - attendance_count : Nombre de personnes présentes\n",
    "# - music_playing : Musique de fond ou playlist\n",
    "# - misc : Champ supplémentaire aléatoire\n",
    "# - duplicate_flag : Indicateur pour les lignes en double suspectées\n",
    "# - ping_ms : Ping/latence\n",
    "# - recorded_by : Qui a enregistré le jeu (appareil/personne/bot)\n",
    "# - mood : Humeur du joueur\n",
    "df_clean = df_clean.drop(['attendance_count', 'music_playing', 'misc', 'duplicate_flag', 'ping_ms', 'recorded_by', 'mood'], axis=1)"
   ],
   "id": "57c2c7a937f2c280",
   "outputs": [],
   "execution_count": 150
  },
  {
   "metadata": {
    "ExecuteTime": {
     "end_time": "2025-10-17T14:00:20.079459Z",
     "start_time": "2025-10-17T14:00:19.786859Z"
    }
   },
   "cell_type": "code",
   "source": [
    "# Suppression des lignes dupliquées\n",
    "df_clean = df_clean.drop_duplicates()"
   ],
   "id": "4433042c679fed48",
   "outputs": [],
   "execution_count": 151
  },
  {
   "metadata": {},
   "cell_type": "markdown",
   "source": "#### Nettoyage des colonnes 'final_score_red' et 'final_score_blue'",
   "id": "795cc4b25e26fdab"
  },
  {
   "metadata": {
    "ExecuteTime": {
     "end_time": "2025-10-17T14:00:20.262935Z",
     "start_time": "2025-10-17T14:00:20.129869Z"
    }
   },
   "cell_type": "code",
   "source": [
    "# Transformation de toutes les valeurs de la colonne final_score_red et final_score_blue en string\n",
    "df_clean['final_score_red'] = df_clean['final_score_red'].astype(str)\n",
    "df_clean['final_score_blue'] = df_clean['final_score_blue'].astype(str)\n",
    "\n",
    "# Remplacement de tout ce qui n’est pas un chiffre (0-9) ni un tiret (-) par '' grâce à une regex\n",
    "df_clean['final_score_red'] = df_clean['final_score_red'].str.replace(r'[^0-9-]', '', regex=True)\n",
    "\n",
    "# Remplacement de tout ce qui n’est pas un chiffre (0-9) par '' grâce à une regex\n",
    "df_clean['final_score_blue'] = df_clean['final_score_blue'].str.replace(r'[^0-9]', '', regex=True)"
   ],
   "id": "7f1d1ed518ab234d",
   "outputs": [],
   "execution_count": 152
  },
  {
   "metadata": {
    "ExecuteTime": {
     "end_time": "2025-10-17T14:00:20.487631Z",
     "start_time": "2025-10-17T14:00:20.305103Z"
    }
   },
   "cell_type": "code",
   "source": [
    "# Remplacement des chaînes vides dans la colonne 'final_score_blue' par NA et convertir en Int64\n",
    "df_clean['final_score_blue'] = df_clean['final_score_blue'].replace('', pd.NA).astype('Int64')\n",
    "\n",
    "# Extraction du chiffre après '-' dans 'final_score_red' qui correspond au score de l'équipe bleu et convertir en Int64\n",
    "df_clean['final_score_red_after_dash'] = df_clean['final_score_red'].str.extract(r'-(\\d+)')[0].astype('Int64')\n",
    "\n",
    "# Création de la nouvelle colonne pour le score de l'équipe bleu et on remplit les valeurs NA par les valeurs de final_score_red_after_dash\n",
    "df_clean['blue_score_final'] = df_clean['final_score_blue'].fillna(df_clean['final_score_red_after_dash']).copy()\n",
    "\n",
    "# Remplacement des valeurs dans la colonne 'final_score_red' en ne gardant que le chiffre avant le '-' grâce à une regex\n",
    "df_clean['final_score_red'] = df_clean['final_score_red'].str.replace(r'\\s*-\\s*\\d+', '', regex=True).astype('Int64')"
   ],
   "id": "ded7680b8770ad02",
   "outputs": [],
   "execution_count": 153
  },
  {
   "metadata": {
    "ExecuteTime": {
     "end_time": "2025-10-17T14:00:20.646961Z",
     "start_time": "2025-10-17T14:00:20.539655Z"
    }
   },
   "cell_type": "code",
   "source": [
    "# Suppression des anciennes colonne 'final_score_blue' et 'final_score_red_after_dash'\n",
    "df_clean = df_clean.drop('final_score_red_after_dash', axis=1)\n",
    "df_clean = df_clean.drop('final_score_blue', axis=1)"
   ],
   "id": "d5038b5edf2b2d36",
   "outputs": [],
   "execution_count": 154
  },
  {
   "metadata": {
    "ExecuteTime": {
     "end_time": "2025-10-17T14:00:20.706777Z",
     "start_time": "2025-10-17T14:00:20.701744Z"
    }
   },
   "cell_type": "code",
   "source": [
    "# Renommage de la nouvelle colonne 'blue_score_final' en 'final_score_blue'\n",
    "df_clean.rename(columns={'blue_score_final': 'final_score_blue',}, inplace=True)"
   ],
   "id": "a1dfb0a88529f93e",
   "outputs": [],
   "execution_count": 155
  },
  {
   "metadata": {},
   "cell_type": "markdown",
   "source": "#### Normalisation de la colonne 'winner'",
   "id": "707f54cefb740f13"
  },
  {
   "metadata": {
    "ExecuteTime": {
     "end_time": "2025-10-17T14:00:22.137037Z",
     "start_time": "2025-10-17T14:00:20.757363Z"
    }
   },
   "cell_type": "code",
   "source": [
    "# Création d'une fonction pour assigner à qui donner la victoire en fonction des colonnes de score\n",
    "def decide_winner(row):\n",
    "    if row['final_score_red'] > row['final_score_blue']:\n",
    "        return 'red'\n",
    "    elif row['final_score_red'] < row['final_score_blue']:\n",
    "        return 'blue'\n",
    "    else:\n",
    "        return 'tie'  # égalité\n",
    "\n",
    "# Application de la fonction decide_winner\n",
    "df_clean['winner'] = df_clean.apply(decide_winner, axis=1)"
   ],
   "id": "db38d5f9431fecd5",
   "outputs": [],
   "execution_count": 156
  },
  {
   "metadata": {},
   "cell_type": "markdown",
   "source": "#### Normalisation de la colonne 'rating_raw'",
   "id": "cb153977309a33c7"
  },
  {
   "metadata": {
    "ExecuteTime": {
     "end_time": "2025-10-17T14:00:22.341074Z",
     "start_time": "2025-10-17T14:00:22.183999Z"
    }
   },
   "cell_type": "code",
   "source": [
    "# Mapping des nombres écrits en chiffres\n",
    "words_to_numbers = {\n",
    "    'four': 4,\n",
    "    'five': 5,\n",
    "}\n",
    "\n",
    "# Mapping des emojis en chiffres\n",
    "emoji_to_number = {\n",
    "    '😡': 1,\n",
    "    '👍': 2,\n",
    "    '🙂': 4,\n",
    "    '⭐⭐⭐': 3\n",
    "}\n",
    "\n",
    "# Remplacer les emojis par leur chiffre grâce à au mapping\n",
    "df_clean['rating_raw'] = df_clean['rating_raw'].replace(emoji_to_number)\n",
    "\n",
    "# Convertir les nombres écrits en minuscules puis remplacer par les chiffres grâce au mapping\n",
    "df_clean['rating_raw'] = df_clean['rating_raw'].str.lower().replace(words_to_numbers)\n",
    "\n",
    "# Convertir la colonne 'rating_raw' en Int64\n",
    "df_clean['rating_raw'] = pd.to_numeric(df_clean['rating_raw'], errors='coerce').astype('Int64')"
   ],
   "id": "db012f9afc151fb5",
   "outputs": [],
   "execution_count": 157
  },
  {
   "metadata": {},
   "cell_type": "markdown",
   "source": "#### Normalisation de la colonne 'location'",
   "id": "5953c05cc92c82f0"
  },
  {
   "metadata": {
    "ExecuteTime": {
     "end_time": "2025-10-17T14:00:22.480960Z",
     "start_time": "2025-10-17T14:00:22.464632Z"
    }
   },
   "cell_type": "code",
   "source": [
    "# Normalisation du texte pour avoir le même texte pour une valeur identique\n",
    "df_clean['location'] = df_clean['location'].replace('Ynov Tls', 'Ynov Toulouse')"
   ],
   "id": "54f4d936ac54e4fd",
   "outputs": [],
   "execution_count": 158
  },
  {
   "metadata": {},
   "cell_type": "markdown",
   "source": "#### Normalisation de la colonne 'player_age'",
   "id": "3b9189ffd3f0a09a"
  },
  {
   "metadata": {
    "ExecuteTime": {
     "end_time": "2025-10-17T14:00:22.563175Z",
     "start_time": "2025-10-17T14:00:22.522977Z"
    }
   },
   "cell_type": "code",
   "source": [
    "# Normalisation du texte pour avoir le même texte pour une valeur identique\n",
    "df_clean['player_age'] = df_clean['player_age'].replace('twenty', '20')\n",
    "df_clean['player_age'] = df_clean['player_age'].replace('21 yrs', '21')"
   ],
   "id": "f5f8d3bc1fca6b30",
   "outputs": [],
   "execution_count": 159
  },
  {
   "metadata": {},
   "cell_type": "markdown",
   "source": "#### Normalisation de la colonne 'player_role'",
   "id": "d115519c8b403868"
  },
  {
   "metadata": {
    "ExecuteTime": {
     "end_time": "2025-10-17T14:00:22.670108Z",
     "start_time": "2025-10-17T14:00:22.621059Z"
    }
   },
   "cell_type": "code",
   "source": [
    "# Normalisation du texte pour avoir le même texte pour une valeur identique\n",
    "df_clean['player_role'] = df_clean['player_role'].replace(['def', 'defense','defence'], 'Defense')\n",
    "df_clean['player_role'] = df_clean['player_role'].replace(['attack', 'attck','ATTACK'], 'Attack')"
   ],
   "id": "4347020056f4a390",
   "outputs": [],
   "execution_count": 160
  },
  {
   "metadata": {},
   "cell_type": "markdown",
   "source": "#### Normalisation de la colonne 'player_goals'",
   "id": "73c81f85003b5448"
  },
  {
   "metadata": {
    "ExecuteTime": {
     "end_time": "2025-10-17T14:00:22.757115Z",
     "start_time": "2025-10-17T14:00:22.718258Z"
    }
   },
   "cell_type": "code",
   "source": [
    "# Normalisation du texte pour avoir le même texte pour une valeur identique\n",
    "df_clean['player_goals'] = df_clean['player_goals'].replace('one', '1')\n",
    "df_clean['player_goals'] = df_clean['player_goals'].replace('ten', '10')\n",
    "df_clean['player_goals'] = df_clean['player_goals'].replace('two', '2')\n",
    "df_clean['player_goals'] = df_clean['player_goals'].replace('three', '3')"
   ],
   "id": "32be63bbc55b53c7",
   "outputs": [],
   "execution_count": 161
  },
  {
   "metadata": {},
   "cell_type": "markdown",
   "source": "#### Normalisation de la colonne 'team_color'",
   "id": "4c2a2bdceac452e3"
  },
  {
   "metadata": {
    "ExecuteTime": {
     "end_time": "2025-10-17T14:00:22.857246Z",
     "start_time": "2025-10-17T14:00:22.812679Z"
    }
   },
   "cell_type": "code",
   "source": [
    "# Normalisation du texte pour avoir le même texte pour une valeur identique\n",
    "df_clean['team_color'] = df_clean['team_color'].replace(['R', '🔴', 'red'], 'Red')\n",
    "df_clean['team_color'] = df_clean['team_color'].replace(['B', '🔵', 'blue'], 'Blue')"
   ],
   "id": "332748a11d1b8755",
   "outputs": [],
   "execution_count": 162
  },
  {
   "metadata": {
    "ExecuteTime": {
     "end_time": "2025-10-17T14:00:23.835519Z",
     "start_time": "2025-10-17T14:00:22.912732Z"
    }
   },
   "cell_type": "code",
   "source": [
    "# Séparation du nom et prénom dans 2 colonnes différente supprime les espaces autour\n",
    "df_clean['name'] = df_clean['player_canonical_name'].str.strip().str.split().str[1]\n",
    "df_clean['surname'] = df_clean['player_canonical_name'].str.strip().str.split().str[0]\n"
   ],
   "id": "52f2d3c661da9bb0",
   "outputs": [],
   "execution_count": 163
  },
  {
   "metadata": {},
   "cell_type": "markdown",
   "source": "#### Normalisation de la colonne 'game_date'\n",
   "id": "6b0c6fd44b1c40eb"
  },
  {
   "metadata": {
    "ExecuteTime": {
     "end_time": "2025-10-17T14:00:24.446048Z",
     "start_time": "2025-10-17T14:00:23.893176Z"
    }
   },
   "cell_type": "code",
   "source": [
    "# Création d'une nouvelle colonne pour stocker les valeurs nettoyé\n",
    "df_clean['game_date_cleaned'] = (\n",
    "    df_clean['game_date']\n",
    "    # 1. Assurer que la colonne est de type string pour les manipulations textuelles.\n",
    "    .astype(str)\n",
    "    # 2. Supprimer les espaces en début et fin de chaîne.\n",
    "    .str.strip()\n",
    "    # 3. Supprimer les indicateurs (ex: \"1st\", \"2nd\") pour ne garder que le chiffre.\n",
    "    .str.replace(r'(\\d{1,2})(st|nd|rd|th)', r'\\1', regex=True)\n",
    "    # 4. Uniformiser les séparateurs de date (virgules, points, slashs) en tirets.\n",
    "    .str.replace(r'[,./]', '-', regex=True)\n",
    "    # 5. Remplacer les espaces multiples par un seul espace pour un formatage propre.\n",
    "    .str.replace(r'\\s+', ' ', regex=True)\n",
    ")"
   ],
   "id": "152d08e6da921200",
   "outputs": [],
   "execution_count": 164
  },
  {
   "metadata": {
    "ExecuteTime": {
     "end_time": "2025-10-17T14:00:24.707899Z",
     "start_time": "2025-10-17T14:00:24.489070Z"
    }
   },
   "cell_type": "code",
   "source": [
    "# Conversion de la colonne 'game_date_cleaned' nettoyées en format datetime.\n",
    "df_clean['game_date_parsed'] = pd.to_datetime(df_clean['game_date_cleaned'], errors='coerce', dayfirst=True)"
   ],
   "id": "f98e807564282369",
   "outputs": [],
   "execution_count": 165
  },
  {
   "metadata": {
    "ExecuteTime": {
     "end_time": "2025-10-17T14:00:30.587585Z",
     "start_time": "2025-10-17T14:00:24.762868Z"
    }
   },
   "cell_type": "code",
   "source": [
    "# Fonction de parsing de date pour gérer les formats variés.\n",
    "def parse_flexible(date_str):\n",
    "    try:\n",
    "        return parser.parse(date_str, dayfirst=True, fuzzy=True)\n",
    "    except Exception:\n",
    "        return pd.NaT\n",
    "\n",
    "# Application de la fonction de parsing à la colonne 'game_date_parsed'.\n",
    "df_clean['game_date_parsed'] = df_clean['game_date_cleaned'].apply(parse_flexible)"
   ],
   "id": "bf4c83abd1b84a9d",
   "outputs": [],
   "execution_count": 166
  },
  {
   "metadata": {
    "ExecuteTime": {
     "end_time": "2025-10-17T14:00:30.660773Z",
     "start_time": "2025-10-17T14:00:30.618648Z"
    }
   },
   "cell_type": "code",
   "source": [
    "# Suppression de l'ancienne colonne 'game_date' et de la colonne temporaire 'game_date_cleaned'\n",
    "df_clean = df_clean.drop(['game_date', 'game_date_cleaned'], axis=1)"
   ],
   "id": "f98ea116eda41d18",
   "outputs": [],
   "execution_count": 167
  },
  {
   "metadata": {
    "ExecuteTime": {
     "end_time": "2025-10-17T14:00:30.704739Z",
     "start_time": "2025-10-17T14:00:30.701323Z"
    }
   },
   "cell_type": "code",
   "source": [
    "# Renommage de la nouvelle colonne 'game_date_parsed' en 'game_date'\n",
    "df_clean.rename(columns={'game_date_parsed': 'game_date',}, inplace=True)"
   ],
   "id": "4b5f1c5c7654806b",
   "outputs": [],
   "execution_count": 168
  },
  {
   "metadata": {},
   "cell_type": "markdown",
   "source": "#### Normalisation de la colonne 'game_duration'\n",
   "id": "c3495cadae28c288"
  },
  {
   "metadata": {
    "ExecuteTime": {
     "end_time": "2025-10-17T14:00:30.748473Z",
     "start_time": "2025-10-17T14:00:30.742107Z"
    }
   },
   "cell_type": "code",
   "source": [
    "# Fonction de nettoyage de durée pour gérer les formats variés.\n",
    "def nettoyer_game_duration(valeur):\n",
    "    valeur = str(valeur).strip().lower()\n",
    "\n",
    "    # hh:mm:ss → convertir en secondes\n",
    "    if re.match(r'^\\d{1,2}:\\d{1,2}:\\d{1,2}$', valeur):\n",
    "        h, m, s = map(int, valeur.split(':'))\n",
    "        total_seconds = h * 3600 + m * 60 + s\n",
    "\n",
    "    # mm:ss → convertir en secondes\n",
    "    elif re.match(r'^\\d{1,2}:\\d{1,2}$', valeur):\n",
    "        m, s = map(int, valeur.split(':'))\n",
    "        total_seconds = m * 60 + s\n",
    "\n",
    "    # décimal → ex: 8.46 = 8 min 46 sec\n",
    "    elif re.match(r'^\\d+\\.\\d+$', valeur):\n",
    "        m, s = valeur.split('.')\n",
    "        total_seconds = int(m) * 60 + int(s)\n",
    "\n",
    "    # texte → ex: \"12min\", \"5m\", \"46s\"\n",
    "    elif 'min' in valeur or 'm' in valeur or 's' in valeur:\n",
    "        match = re.findall(r'\\d+', valeur)\n",
    "        if len(match) == 2:\n",
    "            m, s = map(int, match)\n",
    "            total_seconds = m * 60 + s\n",
    "        elif len(match) == 1:\n",
    "            if 's' in valeur:\n",
    "                total_seconds = int(match[0])\n",
    "            else:\n",
    "                total_seconds = int(match[0]) * 60\n",
    "        else:\n",
    "            return None\n",
    "\n",
    "    # entier brut → ex: \"94\" secondes\n",
    "    elif valeur.isdigit():\n",
    "        total_seconds = int(valeur)\n",
    "\n",
    "    else:\n",
    "        return None\n",
    "\n",
    "    # Format final en mm:ss\n",
    "    minutes = total_seconds // 60\n",
    "    secondes = total_seconds % 60\n",
    "    return f\"{minutes:02d}:{secondes:02d}\""
   ],
   "id": "35e8dfd93240e4f7",
   "outputs": [],
   "execution_count": 169
  },
  {
   "metadata": {
    "ExecuteTime": {
     "end_time": "2025-10-17T14:00:31.171397Z",
     "start_time": "2025-10-17T14:00:30.782141Z"
    }
   },
   "cell_type": "code",
   "source": [
    "# Application de la fonction de nettoyage de durée à la colonne 'game_duration'.\n",
    "df_clean['game_duration'] = df_clean['game_duration'].apply(nettoyer_game_duration)"
   ],
   "id": "873b70aad76c8020",
   "outputs": [],
   "execution_count": 170
  },
  {
   "metadata": {},
   "cell_type": "markdown",
   "source": "#### Normalisation de la colonne 'season'\n",
   "id": "5f8eee8585eca579"
  },
  {
   "metadata": {
    "ExecuteTime": {
     "end_time": "2025-10-17T14:00:31.256088Z",
     "start_time": "2025-10-17T14:00:31.223463Z"
    }
   },
   "cell_type": "code",
   "source": [
    "# Normalisation du texte pour avoir le même texte pour une valeur identique\n",
    "df_clean['season'] = df_clean['season'].replace('2025 Season', '2024/2025')\n",
    "df_clean['season'] = df_clean['season'].replace('s24/25', '2024/2025')\n",
    "df_clean['season'] = df_clean['season'].replace('Season 24-25', '2024/2025')"
   ],
   "id": "f21786ae0d38e682",
   "outputs": [],
   "execution_count": 171
  },
  {
   "metadata": {},
   "cell_type": "markdown",
   "source": "#### Normalisation de la colonne 'possession_time'",
   "id": "ad2a4a18ce63a9cd"
  },
  {
   "metadata": {
    "ExecuteTime": {
     "end_time": "2025-10-17T14:00:31.313317Z",
     "start_time": "2025-10-17T14:00:31.305626Z"
    }
   },
   "cell_type": "code",
   "source": [
    "# Fonction de conversion de durée pour gérer les formats variés.\n",
    "def convert_to_minutes(val):\n",
    "    try:\n",
    "        val = str(val).strip().lower()\n",
    "\n",
    "        # Format \"mm:ss\" →\n",
    "        if re.match(r'^\\d{1,2}:\\d{2}$', val):\n",
    "            m, s = map(int, val.split(':'))\n",
    "            return round(m + s / 60, 2)\n",
    "\n",
    "        # Format \"mm.ssmin\" →\n",
    "        if 'min' in val and '.' in val:\n",
    "            val = val.replace('min', '')\n",
    "            minutes = float(val)\n",
    "            return round(minutes, 2)\n",
    "\n",
    "        # Format \"entier sans ,ou .\" → secondes\n",
    "        if val.isdigit():\n",
    "            seconds = int(val)\n",
    "            return round(seconds / 60, 2)\n",
    "\n",
    "        # Format \"6.88min\" or \"2.44min\"\n",
    "        if 'min' in val:\n",
    "            val = val.replace('min', '')\n",
    "            minutes = float(val)\n",
    "            return round(minutes, 2)\n",
    "\n",
    "        return None\n",
    "    except:\n",
    "        return None"
   ],
   "id": "da0d89e4a2e1d9da",
   "outputs": [],
   "execution_count": 172
  },
  {
   "metadata": {
    "ExecuteTime": {
     "end_time": "2025-10-17T14:00:31.518966Z",
     "start_time": "2025-10-17T14:00:31.354543Z"
    }
   },
   "cell_type": "code",
   "source": [
    "# Application de la fonction de conversion à la colonne 'possession_time'.\n",
    "df_clean['possession_time'] = df_clean['possession_time'].apply(convert_to_minutes)"
   ],
   "id": "ba08f50f51a7809b",
   "outputs": [],
   "execution_count": 173
  },
  {
   "metadata": {
    "ExecuteTime": {
     "end_time": "2025-10-17T14:00:31.560125Z",
     "start_time": "2025-10-17T14:00:31.555164Z"
    }
   },
   "cell_type": "code",
   "source": [
    "# Remplacer les valeurs nulles par 0\n",
    "df_clean['possession_time'] = df_clean['possession_time'].fillna(0)"
   ],
   "id": "693455cd964112a7",
   "outputs": [],
   "execution_count": 174
  },
  {
   "metadata": {},
   "cell_type": "markdown",
   "source": "#### Export du CSV\n",
   "id": "a97a1cfe9fa4141"
  },
  {
   "metadata": {
    "ExecuteTime": {
     "end_time": "2025-10-17T14:00:32.848200Z",
     "start_time": "2025-10-17T14:00:31.608153Z"
    }
   },
   "cell_type": "code",
   "source": [
    "# Export du CSV nettoyé pour la création du rapport avec Power BI\n",
    "df_clean.to_csv('game_dates_cleaned.csv', index=False)"
   ],
   "id": "93dbb618ae9a27b9",
   "outputs": [],
   "execution_count": 175
  },
  {
   "metadata": {},
   "cell_type": "markdown",
   "source": "## PRÉPARATION DES TABLES POUR INJECTER LES DONNÉES EN BDD\n",
   "id": "b8ced4a89d86f373"
  },
  {
   "metadata": {
    "ExecuteTime": {
     "end_time": "2025-10-17T14:00:32.894861Z",
     "start_time": "2025-10-17T14:00:32.890398Z"
    }
   },
   "cell_type": "code",
   "source": [
    "# Configuration pour se connecter à la BDD\n",
    "POSTGRES_USER = \"babyfoot\"\n",
    "POSTGRES_PASSWORD = \"azerty\"\n",
    "POSTGRES_DB = \"db1-hackathon\"\n",
    "POSTGRES_IP = \"172.20.10.3\"\n",
    "POSTGRES_PORT = \"5432\"\n",
    "\n",
    "# Chaîne de connexion\n",
    "engine = create_engine(\n",
    "    f\"postgresql+psycopg2://{POSTGRES_USER}:{POSTGRES_PASSWORD}@{POSTGRES_IP}:{POSTGRES_PORT}/{POSTGRES_DB}\"\n",
    ")"
   ],
   "id": "811fa9ae2a9ad584",
   "outputs": [],
   "execution_count": 176
  },
  {
   "metadata": {},
   "cell_type": "markdown",
   "source": "#### Traitement de la table reservation",
   "id": "4b990baac3959e7c"
  },
  {
   "metadata": {
    "ExecuteTime": {
     "end_time": "2025-10-17T14:00:32.961721Z",
     "start_time": "2025-10-17T14:00:32.937581Z"
    }
   },
   "cell_type": "code",
   "source": [
    "# Préparation de la table reservation\n",
    "reservation = df_clean[['player_id', 'table_id']].copy()\n",
    "reservation['start_time'] = None\n",
    "reservation['end_time'] = None\n",
    "reservation['status_reservation'] = None"
   ],
   "id": "cf39f49c27af00c7",
   "outputs": [],
   "execution_count": 177
  },
  {
   "metadata": {},
   "cell_type": "code",
   "source": [
    "# Envoie du dataframe reservation vers la table de la BDD\n",
    "reservation.to_sql(\n",
    "    'reservation',\n",
    "    con=engine,\n",
    "    if_exists='append',\n",
    "    index=False)"
   ],
   "id": "92a91a876565d313",
   "outputs": [],
   "execution_count": null
  },
  {
   "metadata": {},
   "cell_type": "markdown",
   "source": "#### Traitement de la table game_player",
   "id": "92b53804d59b2025"
  },
  {
   "metadata": {},
   "cell_type": "code",
   "source": [
    "# Préparation de la table game_player\n",
    "game_player = df_clean[['game_id', 'player_id', 'player_goals', 'player_own_goals', 'player_assists', 'player_saves', 'possession_time', 'player_role', 'player_comment', 'team_color', 'is_substitute', 'notes', 'rating_raw']].copy()"
   ],
   "id": "a67456a5d4b05e23",
   "outputs": [],
   "execution_count": null
  },
  {
   "metadata": {},
   "cell_type": "code",
   "source": [
    "# Envoie du dataframe game_player vers la table de la BDD\n",
    "game_player.to_sql(\n",
    "    'game_player',\n",
    "    con=engine,\n",
    "    if_exists='append',\n",
    "    index=False)"
   ],
   "id": "90b0277e3ef954fc",
   "outputs": [],
   "execution_count": null
  },
  {
   "metadata": {},
   "cell_type": "markdown",
   "source": "#### Traitement de la table location",
   "id": "5e3440bd8c98d9f4"
  },
  {
   "metadata": {},
   "cell_type": "code",
   "source": [
    "# Préparation de la table location\n",
    "location = df_clean[['location']]"
   ],
   "id": "ff0feeb92246eeee",
   "outputs": [],
   "execution_count": null
  },
  {
   "metadata": {},
   "cell_type": "code",
   "source": [
    "# Envoie du dataframe location vers la table de la BDD\n",
    "location.to_sql(\n",
    "    'location',\n",
    "    con=engine,\n",
    "    if_exists='append',\n",
    "    index=False)"
   ],
   "id": "43a6ea98f51c8459",
   "outputs": [],
   "execution_count": null
  },
  {
   "metadata": {},
   "cell_type": "markdown",
   "source": "#### Traitement de la table game",
   "id": "f223b63df8c96ca8"
  },
  {
   "metadata": {},
   "cell_type": "code",
   "source": [
    "# Préparation de la table game\n",
    "game = df_clean[['game_id', 'game_date', 'ball_type', 'final_score_red', 'final_score_blue', 'table_condition_game', 'referee', 'game_duration', 'winner']]"
   ],
   "id": "3ac5d9ad77e52eeb",
   "outputs": [],
   "execution_count": null
  },
  {
   "metadata": {},
   "cell_type": "code",
   "source": [
    "# Envoie du dataframe game vers la table de la BDD\n",
    "game.to_sql(\n",
    "    'game',\n",
    "    con=engine,\n",
    "    if_exists='append',\n",
    "    index=False)"
   ],
   "id": "f406e4c2b3099290",
   "outputs": [],
   "execution_count": null
  },
  {
   "metadata": {},
   "cell_type": "markdown",
   "source": "#### Traitement de la table table_entity",
   "id": "3c0c0223ee5d2e08"
  },
  {
   "metadata": {},
   "cell_type": "code",
   "source": [
    "# Préparation de la table table_entity\n",
    "table_entity = df_clean['table_id'].drop_duplicates().reset_index(drop=True).to_frame()\n",
    "table_entity['status'] = None"
   ],
   "id": "4d2a2f85235cd05e",
   "outputs": [],
   "execution_count": null
  },
  {
   "metadata": {},
   "cell_type": "code",
   "source": [
    "# Envoie du dataframe table_entity vers la table de la BDD\n",
    "table_entity.to_sql(\n",
    "    'table_entity',\n",
    "    con=engine,\n",
    "    if_exists='append',\n",
    "    index=False)"
   ],
   "id": "ec0c1f72f8165af9",
   "outputs": [],
   "execution_count": null
  },
  {
   "metadata": {},
   "cell_type": "markdown",
   "source": "#### Traitement de la table player",
   "id": "737880a72a7399a2"
  },
  {
   "metadata": {},
   "cell_type": "code",
   "source": [
    "# Préparation de la table player\n",
    "player = df_clean[['surname','name','player_age','player_name']]\n",
    "player['mail'] = None\n",
    "player['password'] = None\n",
    "player['role'] = None"
   ],
   "id": "ef88fc721a78113f",
   "outputs": [],
   "execution_count": null
  },
  {
   "metadata": {},
   "cell_type": "code",
   "source": [
    "# Envoie du dataframe player vers la table de la BDD\n",
    "player.to_sql(\n",
    "    'player',\n",
    "    con=engine,\n",
    "    if_exists='append',\n",
    "    index=False)"
   ],
   "id": "295d96a3afdbba99",
   "outputs": [],
   "execution_count": null
  },
  {
   "metadata": {},
   "cell_type": "markdown",
   "source": "## ANALYSE EXPLORATOIRE DES DONNÉS",
   "id": "6a1657013ed496f1"
  },
  {
   "metadata": {},
   "cell_type": "markdown",
   "source": "#### Corrélation entre les buts contre son camp et la défaite",
   "id": "2f9602974acb719d"
  },
  {
   "metadata": {
    "ExecuteTime": {
     "end_time": "2025-10-17T14:01:32.259398Z",
     "start_time": "2025-10-17T14:01:32.221926Z"
    }
   },
   "cell_type": "code",
   "source": [
    "# 1 = défaite pour blue, 0 = pas défaite\n",
    "df['blue_loss'] = df['winner'].apply(lambda x: 1 if x == 'red' else 0)"
   ],
   "id": "5960e3971b2f8d06",
   "outputs": [],
   "execution_count": 179
  },
  {
   "metadata": {
    "ExecuteTime": {
     "end_time": "2025-10-17T14:01:33.006825Z",
     "start_time": "2025-10-17T14:01:32.992822Z"
    }
   },
   "cell_type": "code",
   "source": [
    "# Changement du type en int sur la colonne 'player_own_goals'\n",
    "df_clean['player_own_goals'] = df_clean['player_own_goals'].astype(int)"
   ],
   "id": "2a18c8f1342e6193",
   "outputs": [],
   "execution_count": 180
  },
  {
   "metadata": {
    "ExecuteTime": {
     "end_time": "2025-10-17T14:01:33.508149Z",
     "start_time": "2025-10-17T14:01:33.485259Z"
    }
   },
   "cell_type": "code",
   "source": [
    "# Filtre les lignes avec au moins 1 own goal\n",
    "own_goal_df = df_clean[df_clean['player_own_goals'] > 0]\n",
    "\n",
    "# Nombre de défaites quand il y a un own goal\n",
    "loss_count = (own_goal_df['winner'] == 'blue').sum()\n",
    "\n",
    "# Nombre total de matchs avec own goal\n",
    "total_own_goals = len(own_goal_df)\n",
    "\n",
    "# % de défaites avec own goal\n",
    "percent_loss = (loss_count / total_own_goals) * 100\n",
    "print(f\"% de défaites avec but contre son camps : {percent_loss:.2f}%\")"
   ],
   "id": "c41c4c120b874db3",
   "outputs": [
    {
     "name": "stdout",
     "output_type": "stream",
     "text": [
      "% de défaites avec but contre son camps : 44.89%\n"
     ]
    }
   ],
   "execution_count": 181
  },
  {
   "metadata": {},
   "cell_type": "markdown",
   "source": "#### Analyse du nombre de win par équipe bleu ou rouge et par table\n",
   "id": "9354c3eb185952ac"
  },
  {
   "metadata": {
    "ExecuteTime": {
     "end_time": "2025-10-17T14:01:40.968897Z",
     "start_time": "2025-10-17T14:01:40.936149Z"
    }
   },
   "cell_type": "code",
   "source": [
    "# Regroupement par table_id et winner\n",
    "win_counts = df_clean.groupby(['table_id', 'winner']).size().reset_index(name='count')\n",
    "\n",
    "# Calcule le total de matchs par table\n",
    "total_matches = win_counts.groupby('table_id')['count'].transform('sum')\n",
    "\n",
    "# Calcule le pourcentage de victoire\n",
    "win_counts['win_percent'] = (win_counts['count'] / total_matches) * 100\n",
    "\n",
    "# On pivote le tableau pour une vue plus lisible\n",
    "win_percent_table = win_counts.pivot(index='table_id', columns='winner', values='win_percent').fillna(0).reset_index()\n",
    "\n",
    "win_percent_table\n"
   ],
   "id": "b4c5fe993a272893",
   "outputs": [
    {
     "data": {
      "text/plain": [
       "winner table_id       blue        red        tie\n",
       "0           T01  44.945189  46.528624   8.526188\n",
       "1           T02  44.740024  45.828295   9.431681\n",
       "2           T03  47.950311  40.993789  11.055901\n",
       "3           T04  44.248826  45.892019   9.859155\n",
       "4           T05  48.009650  43.305187   8.685163\n",
       "5           T06  43.178974  47.434293   9.386733\n",
       "6           T07  47.540984  43.676815   8.782201\n",
       "7           T08  45.149254  45.895522   8.955224\n",
       "8           T09  44.815668  47.350230   7.834101\n",
       "9           T10  44.047619  47.142857   8.809524\n",
       "10          T11  45.419355  46.322581   8.258065\n",
       "11          T12  41.567696  48.693587   9.738717\n",
       "12          T13  42.590286  48.816936   8.592777\n",
       "13          T14  45.607702  46.329723   8.062575\n",
       "14          T15  44.987775  45.354523   9.657702\n",
       "15          T16  45.238095  45.691610   9.070295\n",
       "16          T17  46.756426  44.186047   9.057528\n",
       "17          T18  45.153374  45.276074   9.570552\n",
       "18          T19  45.584726  46.181384   8.233890\n",
       "19          T20  45.595238  44.642857   9.761905\n",
       "20          T21  43.916570  46.002317  10.081112\n",
       "21          T22  43.878788  47.878788   8.242424\n",
       "22          T23  46.358382  45.433526   8.208092\n",
       "23          T24  45.995146  46.116505   7.888350\n",
       "24          T25  44.902913  45.873786   9.223301\n",
       "25          T26  44.779582  45.127610  10.092807\n",
       "26          T27  47.757576  44.363636   7.878788\n",
       "27          T28  46.682464  44.786730   8.530806\n",
       "28          T29  44.700461  46.774194   8.525346\n",
       "29          T30  42.261905  47.976190   9.761905"
      ],
      "text/html": [
       "<div>\n",
       "<style scoped>\n",
       "    .dataframe tbody tr th:only-of-type {\n",
       "        vertical-align: middle;\n",
       "    }\n",
       "\n",
       "    .dataframe tbody tr th {\n",
       "        vertical-align: top;\n",
       "    }\n",
       "\n",
       "    .dataframe thead th {\n",
       "        text-align: right;\n",
       "    }\n",
       "</style>\n",
       "<table border=\"1\" class=\"dataframe\">\n",
       "  <thead>\n",
       "    <tr style=\"text-align: right;\">\n",
       "      <th>winner</th>\n",
       "      <th>table_id</th>\n",
       "      <th>blue</th>\n",
       "      <th>red</th>\n",
       "      <th>tie</th>\n",
       "    </tr>\n",
       "  </thead>\n",
       "  <tbody>\n",
       "    <tr>\n",
       "      <th>0</th>\n",
       "      <td>T01</td>\n",
       "      <td>44.945189</td>\n",
       "      <td>46.528624</td>\n",
       "      <td>8.526188</td>\n",
       "    </tr>\n",
       "    <tr>\n",
       "      <th>1</th>\n",
       "      <td>T02</td>\n",
       "      <td>44.740024</td>\n",
       "      <td>45.828295</td>\n",
       "      <td>9.431681</td>\n",
       "    </tr>\n",
       "    <tr>\n",
       "      <th>2</th>\n",
       "      <td>T03</td>\n",
       "      <td>47.950311</td>\n",
       "      <td>40.993789</td>\n",
       "      <td>11.055901</td>\n",
       "    </tr>\n",
       "    <tr>\n",
       "      <th>3</th>\n",
       "      <td>T04</td>\n",
       "      <td>44.248826</td>\n",
       "      <td>45.892019</td>\n",
       "      <td>9.859155</td>\n",
       "    </tr>\n",
       "    <tr>\n",
       "      <th>4</th>\n",
       "      <td>T05</td>\n",
       "      <td>48.009650</td>\n",
       "      <td>43.305187</td>\n",
       "      <td>8.685163</td>\n",
       "    </tr>\n",
       "    <tr>\n",
       "      <th>5</th>\n",
       "      <td>T06</td>\n",
       "      <td>43.178974</td>\n",
       "      <td>47.434293</td>\n",
       "      <td>9.386733</td>\n",
       "    </tr>\n",
       "    <tr>\n",
       "      <th>6</th>\n",
       "      <td>T07</td>\n",
       "      <td>47.540984</td>\n",
       "      <td>43.676815</td>\n",
       "      <td>8.782201</td>\n",
       "    </tr>\n",
       "    <tr>\n",
       "      <th>7</th>\n",
       "      <td>T08</td>\n",
       "      <td>45.149254</td>\n",
       "      <td>45.895522</td>\n",
       "      <td>8.955224</td>\n",
       "    </tr>\n",
       "    <tr>\n",
       "      <th>8</th>\n",
       "      <td>T09</td>\n",
       "      <td>44.815668</td>\n",
       "      <td>47.350230</td>\n",
       "      <td>7.834101</td>\n",
       "    </tr>\n",
       "    <tr>\n",
       "      <th>9</th>\n",
       "      <td>T10</td>\n",
       "      <td>44.047619</td>\n",
       "      <td>47.142857</td>\n",
       "      <td>8.809524</td>\n",
       "    </tr>\n",
       "    <tr>\n",
       "      <th>10</th>\n",
       "      <td>T11</td>\n",
       "      <td>45.419355</td>\n",
       "      <td>46.322581</td>\n",
       "      <td>8.258065</td>\n",
       "    </tr>\n",
       "    <tr>\n",
       "      <th>11</th>\n",
       "      <td>T12</td>\n",
       "      <td>41.567696</td>\n",
       "      <td>48.693587</td>\n",
       "      <td>9.738717</td>\n",
       "    </tr>\n",
       "    <tr>\n",
       "      <th>12</th>\n",
       "      <td>T13</td>\n",
       "      <td>42.590286</td>\n",
       "      <td>48.816936</td>\n",
       "      <td>8.592777</td>\n",
       "    </tr>\n",
       "    <tr>\n",
       "      <th>13</th>\n",
       "      <td>T14</td>\n",
       "      <td>45.607702</td>\n",
       "      <td>46.329723</td>\n",
       "      <td>8.062575</td>\n",
       "    </tr>\n",
       "    <tr>\n",
       "      <th>14</th>\n",
       "      <td>T15</td>\n",
       "      <td>44.987775</td>\n",
       "      <td>45.354523</td>\n",
       "      <td>9.657702</td>\n",
       "    </tr>\n",
       "    <tr>\n",
       "      <th>15</th>\n",
       "      <td>T16</td>\n",
       "      <td>45.238095</td>\n",
       "      <td>45.691610</td>\n",
       "      <td>9.070295</td>\n",
       "    </tr>\n",
       "    <tr>\n",
       "      <th>16</th>\n",
       "      <td>T17</td>\n",
       "      <td>46.756426</td>\n",
       "      <td>44.186047</td>\n",
       "      <td>9.057528</td>\n",
       "    </tr>\n",
       "    <tr>\n",
       "      <th>17</th>\n",
       "      <td>T18</td>\n",
       "      <td>45.153374</td>\n",
       "      <td>45.276074</td>\n",
       "      <td>9.570552</td>\n",
       "    </tr>\n",
       "    <tr>\n",
       "      <th>18</th>\n",
       "      <td>T19</td>\n",
       "      <td>45.584726</td>\n",
       "      <td>46.181384</td>\n",
       "      <td>8.233890</td>\n",
       "    </tr>\n",
       "    <tr>\n",
       "      <th>19</th>\n",
       "      <td>T20</td>\n",
       "      <td>45.595238</td>\n",
       "      <td>44.642857</td>\n",
       "      <td>9.761905</td>\n",
       "    </tr>\n",
       "    <tr>\n",
       "      <th>20</th>\n",
       "      <td>T21</td>\n",
       "      <td>43.916570</td>\n",
       "      <td>46.002317</td>\n",
       "      <td>10.081112</td>\n",
       "    </tr>\n",
       "    <tr>\n",
       "      <th>21</th>\n",
       "      <td>T22</td>\n",
       "      <td>43.878788</td>\n",
       "      <td>47.878788</td>\n",
       "      <td>8.242424</td>\n",
       "    </tr>\n",
       "    <tr>\n",
       "      <th>22</th>\n",
       "      <td>T23</td>\n",
       "      <td>46.358382</td>\n",
       "      <td>45.433526</td>\n",
       "      <td>8.208092</td>\n",
       "    </tr>\n",
       "    <tr>\n",
       "      <th>23</th>\n",
       "      <td>T24</td>\n",
       "      <td>45.995146</td>\n",
       "      <td>46.116505</td>\n",
       "      <td>7.888350</td>\n",
       "    </tr>\n",
       "    <tr>\n",
       "      <th>24</th>\n",
       "      <td>T25</td>\n",
       "      <td>44.902913</td>\n",
       "      <td>45.873786</td>\n",
       "      <td>9.223301</td>\n",
       "    </tr>\n",
       "    <tr>\n",
       "      <th>25</th>\n",
       "      <td>T26</td>\n",
       "      <td>44.779582</td>\n",
       "      <td>45.127610</td>\n",
       "      <td>10.092807</td>\n",
       "    </tr>\n",
       "    <tr>\n",
       "      <th>26</th>\n",
       "      <td>T27</td>\n",
       "      <td>47.757576</td>\n",
       "      <td>44.363636</td>\n",
       "      <td>7.878788</td>\n",
       "    </tr>\n",
       "    <tr>\n",
       "      <th>27</th>\n",
       "      <td>T28</td>\n",
       "      <td>46.682464</td>\n",
       "      <td>44.786730</td>\n",
       "      <td>8.530806</td>\n",
       "    </tr>\n",
       "    <tr>\n",
       "      <th>28</th>\n",
       "      <td>T29</td>\n",
       "      <td>44.700461</td>\n",
       "      <td>46.774194</td>\n",
       "      <td>8.525346</td>\n",
       "    </tr>\n",
       "    <tr>\n",
       "      <th>29</th>\n",
       "      <td>T30</td>\n",
       "      <td>42.261905</td>\n",
       "      <td>47.976190</td>\n",
       "      <td>9.761905</td>\n",
       "    </tr>\n",
       "  </tbody>\n",
       "</table>\n",
       "</div>"
      ]
     },
     "execution_count": 182,
     "metadata": {},
     "output_type": "execute_result"
    }
   ],
   "execution_count": 182
  },
  {
   "metadata": {},
   "cell_type": "markdown",
   "source": "#### Analyse du nombre de parties par saison",
   "id": "3754ddb6105217c6"
  },
  {
   "metadata": {
    "ExecuteTime": {
     "end_time": "2025-10-17T14:03:41.192926Z",
     "start_time": "2025-10-17T14:03:41.145577Z"
    }
   },
   "cell_type": "code",
   "source": [
    "# Compter le nombre de game_id uniques par saison\n",
    "games_per_season = df_clean.groupby('season')['game_id'].nunique().reset_index(name='nb_games')\n",
    "games_per_season"
   ],
   "id": "1c3a55b61a605cb3",
   "outputs": [
    {
     "data": {
      "text/plain": [
       "      season  nb_games\n",
       "0  2023/2024      4971\n",
       "1  2024/2025     20029"
      ],
      "text/html": [
       "<div>\n",
       "<style scoped>\n",
       "    .dataframe tbody tr th:only-of-type {\n",
       "        vertical-align: middle;\n",
       "    }\n",
       "\n",
       "    .dataframe tbody tr th {\n",
       "        vertical-align: top;\n",
       "    }\n",
       "\n",
       "    .dataframe thead th {\n",
       "        text-align: right;\n",
       "    }\n",
       "</style>\n",
       "<table border=\"1\" class=\"dataframe\">\n",
       "  <thead>\n",
       "    <tr style=\"text-align: right;\">\n",
       "      <th></th>\n",
       "      <th>season</th>\n",
       "      <th>nb_games</th>\n",
       "    </tr>\n",
       "  </thead>\n",
       "  <tbody>\n",
       "    <tr>\n",
       "      <th>0</th>\n",
       "      <td>2023/2024</td>\n",
       "      <td>4971</td>\n",
       "    </tr>\n",
       "    <tr>\n",
       "      <th>1</th>\n",
       "      <td>2024/2025</td>\n",
       "      <td>20029</td>\n",
       "    </tr>\n",
       "  </tbody>\n",
       "</table>\n",
       "</div>"
      ]
     },
     "execution_count": 184,
     "metadata": {},
     "output_type": "execute_result"
    }
   ],
   "execution_count": 184
  }
 ],
 "metadata": {
  "kernelspec": {
   "display_name": "Python 3",
   "language": "python",
   "name": "python3"
  },
  "language_info": {
   "codemirror_mode": {
    "name": "ipython",
    "version": 2
   },
   "file_extension": ".py",
   "mimetype": "text/x-python",
   "name": "python",
   "nbconvert_exporter": "python",
   "pygments_lexer": "ipython2",
   "version": "2.7.6"
  }
 },
 "nbformat": 4,
 "nbformat_minor": 5
}
